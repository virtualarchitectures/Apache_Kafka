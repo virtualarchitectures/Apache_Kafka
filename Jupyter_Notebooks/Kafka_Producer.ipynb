{
 "cells": [
  {
   "cell_type": "markdown",
   "metadata": {},
   "source": [
    "# Kafka Producer"
   ]
  },
  {
   "cell_type": "markdown",
   "metadata": {},
   "source": [
    "This script uses the [kafka-python](https://pypi.org/project/kafka-python/) module to create a Kafka client that publishes data to a Kafka cluster.\n",
    "\n",
    "**Installation**\n",
    "\n",
    "Install the Kafka module using `pip install kafka-python`.\n",
    "\n",
    "**Documentation**\n",
    "\n",
    "- Kafka-Python GitHub repository: https://github.com/dpkp/kafka-python\n",
    "- Kafka-Python Documentation: https://pypi.org/project/kafka-python/"
   ]
  },
  {
   "cell_type": "markdown",
   "metadata": {},
   "source": [
    "#### Import modules"
   ]
  },
  {
   "cell_type": "code",
   "execution_count": null,
   "metadata": {},
   "outputs": [],
   "source": [
    "from kafka import KafkaProducer\n",
    "from json import dumps\n",
    "from time import sleep"
   ]
  },
  {
   "cell_type": "markdown",
   "metadata": {},
   "source": [
    "#### Create Kafka producer object"
   ]
  },
  {
   "cell_type": "markdown",
   "metadata": {},
   "source": [
    "The producer connects to the Kafka cluster and defines the means of serializing the data to send."
   ]
  },
  {
   "cell_type": "code",
   "execution_count": null,
   "metadata": {},
   "outputs": [],
   "source": [
    "producer = KafkaProducer(\n",
    "    bootstrap_servers=['localhost:9092'],\n",
    "    value_serializer=lambda x: dumps(x).encode('utf-8')\n",
    ")"
   ]
  },
  {
   "cell_type": "markdown",
   "metadata": {},
   "source": [
    "#### Send data"
   ]
  },
  {
   "cell_type": "markdown",
   "metadata": {},
   "source": [
    "This loop creates and sends a data to the stated topic every 0.5 seconds."
   ]
  },
  {
   "cell_type": "code",
   "execution_count": null,
   "metadata": {},
   "outputs": [],
   "source": [
    "for j in range(9999):\n",
    "    print(\"Iteration\", j)\n",
    "    data = {'counter': j}\n",
    "    producer.send('topic_test', value=data)\n",
    "    sleep(0.5)"
   ]
  },
  {
   "cell_type": "code",
   "execution_count": null,
   "metadata": {},
   "outputs": [],
   "source": []
  }
 ],
 "metadata": {
  "kernelspec": {
   "display_name": "Python 3",
   "language": "python",
   "name": "python3"
  },
  "language_info": {
   "codemirror_mode": {
    "name": "ipython",
    "version": 3
   },
   "file_extension": ".py",
   "mimetype": "text/x-python",
   "name": "python",
   "nbconvert_exporter": "python",
   "pygments_lexer": "ipython3",
   "version": "3.8.5"
  }
 },
 "nbformat": 4,
 "nbformat_minor": 4
}
